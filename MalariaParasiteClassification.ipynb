{
  "nbformat": 4,
  "nbformat_minor": 0,
  "metadata": {
    "colab": {
      "name": "MalariaParasiteClassification.ipynb",
      "provenance": [],
      "collapsed_sections": [],
      "authorship_tag": "ABX9TyOj+6FjqJbrurmZS1BiEQXL",
      "include_colab_link": true
    },
    "kernelspec": {
      "name": "python3",
      "display_name": "Python 3"
    },
    "accelerator": "GPU"
  },
  "cells": [
    {
      "cell_type": "markdown",
      "metadata": {
        "id": "view-in-github",
        "colab_type": "text"
      },
      "source": [
        "<a href=\"https://colab.research.google.com/github/aadegokemuideen/dino/blob/master/MalariaParasiteClassification.ipynb\" target=\"_parent\"><img src=\"https://colab.research.google.com/assets/colab-badge.svg\" alt=\"Open In Colab\"/></a>"
      ]
    },
    {
      "cell_type": "code",
      "metadata": {
        "id": "ksOY_4gaNwDw"
      },
      "source": [
        "'''\r\n",
        "from google.colab import files \r\n",
        "uploaded = files.upload() \r\n",
        "'''"
      ],
      "execution_count": null,
      "outputs": []
    },
    {
      "cell_type": "code",
      "metadata": {
        "id": "MCVn5ppoOa1S"
      },
      "source": [
        " mkdir malaria"
      ],
      "execution_count": 2,
      "outputs": []
    },
    {
      "cell_type": "code",
      "metadata": {
        "id": "2EkckeiKO0yQ"
      },
      "source": [
        "#change directory\r\n",
        "%cd /content/malaria"
      ],
      "execution_count": null,
      "outputs": []
    },
    {
      "cell_type": "code",
      "metadata": {
        "colab": {
          "base_uri": "https://localhost:8080/",
          "height": 36
        },
        "id": "QIsF5sUzPDH_",
        "outputId": "1d45e8f0-b0c6-4ca5-ad49-76e86e161741"
      },
      "source": [
        "#check the current directory\r\n",
        "import os\r\n",
        "os.getcwd()"
      ],
      "execution_count": 11,
      "outputs": [
        {
          "output_type": "execute_result",
          "data": {
            "application/vnd.google.colaboratory.intrinsic+json": {
              "type": "string"
            },
            "text/plain": [
              "'/content/malaria'"
            ]
          },
          "metadata": {
            "tags": []
          },
          "execution_count": 11
        }
      ]
    },
    {
      "cell_type": "code",
      "metadata": {
        "id": "BpcEeJ0zPxLT"
      },
      "source": [
        "#Gget the download data and unzip\r\n",
        "!wget https://ceb.nlm.nih.gov/proj/malaria/cell_images.zip\r\n",
        "\r\n",
        "!unzip cell_images.zip"
      ],
      "execution_count": null,
      "outputs": []
    },
    {
      "cell_type": "code",
      "metadata": {
        "colab": {
          "base_uri": "https://localhost:8080/"
        },
        "id": "HnFc1EzRQcIy",
        "outputId": "99aaaade-f124-4bc1-8e2a-8aeaf1eb64c0"
      },
      "source": [
        "#switch back to parent directory\r\n",
        "%cd .."
      ],
      "execution_count": 21,
      "outputs": [
        {
          "output_type": "stream",
          "text": [
            "/content\n"
          ],
          "name": "stdout"
        }
      ]
    },
    {
      "cell_type": "code",
      "metadata": {
        "colab": {
          "base_uri": "https://localhost:8080/",
          "height": 36
        },
        "id": "fCQgVCCcQ0WJ",
        "outputId": "5d8c5b0b-6be7-4dbc-cec2-923beb3db2ff"
      },
      "source": [
        "#Sanity Check to see if we have switch back to parent dierctory\r\n",
        "os.getcwd()"
      ],
      "execution_count": 22,
      "outputs": [
        {
          "output_type": "execute_result",
          "data": {
            "application/vnd.google.colaboratory.intrinsic+json": {
              "type": "string"
            },
            "text/plain": [
              "'/content'"
            ]
          },
          "metadata": {
            "tags": []
          },
          "execution_count": 22
        }
      ]
    },
    {
      "cell_type": "code",
      "metadata": {
        "id": "CPFohhYlRNh9"
      },
      "source": [
        "mkdir pyImageAde\r\n",
        "#I can cd to PyImageAde\r\n",
        "#%cd /content/pyImageAde\r\n",
        "# I can write the code offline and upload using\r\n",
        "\"\"\"\r\n",
        "from google.colab import files \r\n",
        "uploaded = files.upload() \r\n",
        "\"\"\""
      ],
      "execution_count": null,
      "outputs": []
    },
    {
      "cell_type": "code",
      "metadata": {
        "id": "pLcp6imKS73T"
      },
      "source": [
        "from pyImageAde.ResNet import ResNet"
      ],
      "execution_count": 30,
      "outputs": []
    },
    {
      "cell_type": "markdown",
      "metadata": {
        "id": "Q8vzmMdzT6_H"
      },
      "source": [
        "Instead of config.py file we can as well use  a JSON, YAML, or equivalent files as well, but it’s nice being able to introduce Python code directly into your configuration."
      ]
    }
  ]
}