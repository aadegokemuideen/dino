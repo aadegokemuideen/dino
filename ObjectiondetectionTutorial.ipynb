{
  "nbformat": 4,
  "nbformat_minor": 0,
  "metadata": {
    "colab": {
      "name": "ObjectiondetectionTutorial.ipynb",
      "provenance": [],
      "authorship_tag": "ABX9TyM7204qyIgsY/4FYQEBjQ05",
      "include_colab_link": true
    },
    "kernelspec": {
      "name": "python3",
      "display_name": "Python 3"
    },
    "accelerator": "GPU"
  },
  "cells": [
    {
      "cell_type": "markdown",
      "metadata": {
        "id": "view-in-github",
        "colab_type": "text"
      },
      "source": [
        "<a href=\"https://colab.research.google.com/github/aadegokemuideen/dino/blob/master/ObjectiondetectionTutorial.ipynb\" target=\"_parent\"><img src=\"https://colab.research.google.com/assets/colab-badge.svg\" alt=\"Open In Colab\"/></a>"
      ]
    },
    {
      "cell_type": "code",
      "metadata": {
        "colab": {
          "base_uri": "https://localhost:8080/"
        },
        "id": "HGfgjbs7nd7_",
        "outputId": "47fc6420-f2ef-4f5d-d64a-b400ba538e9d"
      },
      "source": [
        "!git clone https://github.com/tryolabs/luminoth.git"
      ],
      "execution_count": 1,
      "outputs": [
        {
          "output_type": "stream",
          "text": [
            "Cloning into 'luminoth'...\n",
            "remote: Enumerating objects: 6093, done.\u001b[K\n",
            "remote: Total 6093 (delta 0), reused 0 (delta 0), pack-reused 6093\u001b[K\n",
            "Receiving objects: 100% (6093/6093), 3.05 MiB | 384.00 KiB/s, done.\n",
            "Resolving deltas: 100% (4429/4429), done.\n"
          ],
          "name": "stdout"
        }
      ]
    }
  ]
}