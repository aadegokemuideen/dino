{
  "nbformat": 4,
  "nbformat_minor": 0,
  "metadata": {
    "colab": {
      "name": "CoreLearningAlgorithmClassification.ipynb",
      "provenance": [],
      "collapsed_sections": [],
      "authorship_tag": "ABX9TyMLTTFhiu48LmxNue2QhlIu",
      "include_colab_link": true
    },
    "kernelspec": {
      "name": "python3",
      "display_name": "Python 3"
    }
  },
  "cells": [
    {
      "cell_type": "markdown",
      "metadata": {
        "id": "view-in-github",
        "colab_type": "text"
      },
      "source": [
        "<a href=\"https://colab.research.google.com/github/aadegokemuideen/dino/blob/master/CoreLearningAlgorithmClassification.ipynb\" target=\"_parent\"><img src=\"https://colab.research.google.com/assets/colab-badge.svg\" alt=\"Open In Colab\"/></a>"
      ]
    },
    {
      "cell_type": "markdown",
      "metadata": {
        "id": "NKVvLOxMNR91"
      },
      "source": [
        "## This file focus on classification problem: The process of classiying data points into different classes. In this file I used tensorflow 2.x. I worked on Irish Data set"
      ]
    },
    {
      "cell_type": "code",
      "metadata": {
        "id": "qR5Tem8rNEdr"
      },
      "source": [
        "'''\n",
        "from DinoPreprocessor.test3 import sigmoid\n",
        "print(sigmoid(1))'''\n",
        "\n",
        "%tensorflow_version 2.x\n",
        "from __future__ import absolute_import, division, print_function, unicode_literals\n",
        "\n",
        "import tensorflow as tf\n",
        "import pandas as pd"
      ],
      "execution_count": 109,
      "outputs": []
    },
    {
      "cell_type": "code",
      "metadata": {
        "id": "Kv7iIdl9OpJD"
      },
      "source": [
        "csvColumnNames = ['SepalLength', 'SepalWidth', 'PetalLength', 'PetalWidth', 'Species']\n",
        "Species = [\"Setosa\", \"Versicolor\", \"Virginica\"]\n",
        "\n",
        "\n",
        "# load irish data set. save the data set as irish_training.csv in keras/datasets/irish_training.csv\n",
        "# Similarly for \"irish_test.csv\"\n",
        "path_train = tf.keras.utils.get_file(\"irish_training.csv\",\"https://storage.googleapis.com/download.tensorflow.org/data/iris_training.csv\")\n",
        "path_test = tf.keras.utils.get_file(\"irish_test.csv\",\"https://storage.googleapis.com/download.tensorflow.org/data/iris_training.csv\")"
      ],
      "execution_count": 110,
      "outputs": []
    },
    {
      "cell_type": "code",
      "metadata": {
        "colab": {
          "base_uri": "https://localhost:8080/"
        },
        "id": "R70aFeg5aDu2",
        "outputId": "ff3f3a92-cf7e-4b04-d4c0-da9657e01687"
      },
      "source": [
        "print(path_train) # print this to see the name of the path\n",
        "train = pd.read_csv(path_train,names= csvColumnNames, header =0)\n",
        "test = pd.read_csv(path_test, names = csvColumnNames, header =0)\n"
      ],
      "execution_count": 111,
      "outputs": [
        {
          "output_type": "stream",
          "text": [
            "/root/.keras/datasets/irish_training.csv\n"
          ],
          "name": "stdout"
        }
      ]
    },
    {
      "cell_type": "code",
      "metadata": {
        "colab": {
          "base_uri": "https://localhost:8080/",
          "height": 206
        },
        "id": "OugEzCW6gF6O",
        "outputId": "6ba0c428-4fe5-4dac-9ebf-f9ee0ee6a616"
      },
      "source": [
        "train.head()"
      ],
      "execution_count": 112,
      "outputs": [
        {
          "output_type": "execute_result",
          "data": {
            "text/html": [
              "<div>\n",
              "<style scoped>\n",
              "    .dataframe tbody tr th:only-of-type {\n",
              "        vertical-align: middle;\n",
              "    }\n",
              "\n",
              "    .dataframe tbody tr th {\n",
              "        vertical-align: top;\n",
              "    }\n",
              "\n",
              "    .dataframe thead th {\n",
              "        text-align: right;\n",
              "    }\n",
              "</style>\n",
              "<table border=\"1\" class=\"dataframe\">\n",
              "  <thead>\n",
              "    <tr style=\"text-align: right;\">\n",
              "      <th></th>\n",
              "      <th>SepalLength</th>\n",
              "      <th>SepalWidth</th>\n",
              "      <th>PetalLength</th>\n",
              "      <th>PetalWidth</th>\n",
              "      <th>Species</th>\n",
              "    </tr>\n",
              "  </thead>\n",
              "  <tbody>\n",
              "    <tr>\n",
              "      <th>0</th>\n",
              "      <td>6.4</td>\n",
              "      <td>2.8</td>\n",
              "      <td>5.6</td>\n",
              "      <td>2.2</td>\n",
              "      <td>2</td>\n",
              "    </tr>\n",
              "    <tr>\n",
              "      <th>1</th>\n",
              "      <td>5.0</td>\n",
              "      <td>2.3</td>\n",
              "      <td>3.3</td>\n",
              "      <td>1.0</td>\n",
              "      <td>1</td>\n",
              "    </tr>\n",
              "    <tr>\n",
              "      <th>2</th>\n",
              "      <td>4.9</td>\n",
              "      <td>2.5</td>\n",
              "      <td>4.5</td>\n",
              "      <td>1.7</td>\n",
              "      <td>2</td>\n",
              "    </tr>\n",
              "    <tr>\n",
              "      <th>3</th>\n",
              "      <td>4.9</td>\n",
              "      <td>3.1</td>\n",
              "      <td>1.5</td>\n",
              "      <td>0.1</td>\n",
              "      <td>0</td>\n",
              "    </tr>\n",
              "    <tr>\n",
              "      <th>4</th>\n",
              "      <td>5.7</td>\n",
              "      <td>3.8</td>\n",
              "      <td>1.7</td>\n",
              "      <td>0.3</td>\n",
              "      <td>0</td>\n",
              "    </tr>\n",
              "  </tbody>\n",
              "</table>\n",
              "</div>"
            ],
            "text/plain": [
              "   SepalLength  SepalWidth  PetalLength  PetalWidth  Species\n",
              "0          6.4         2.8          5.6         2.2        2\n",
              "1          5.0         2.3          3.3         1.0        1\n",
              "2          4.9         2.5          4.5         1.7        2\n",
              "3          4.9         3.1          1.5         0.1        0\n",
              "4          5.7         3.8          1.7         0.3        0"
            ]
          },
          "metadata": {
            "tags": []
          },
          "execution_count": 112
        }
      ]
    },
    {
      "cell_type": "code",
      "metadata": {
        "colab": {
          "base_uri": "https://localhost:8080/",
          "height": 206
        },
        "id": "YDj123rVgTHm",
        "outputId": "ec3ff4b9-7688-458b-c2ab-a05b0c0e64ca"
      },
      "source": [
        "# let pop the Species column up to serve as our teacher or output example\n",
        "\n",
        "train_y = train.pop(\"Species\")\n",
        "test_y = test.pop(\"Species\")\n",
        "\n",
        "# The species column is now gone\n",
        "train.head() # The species column is now gone"
      ],
      "execution_count": 113,
      "outputs": [
        {
          "output_type": "execute_result",
          "data": {
            "text/html": [
              "<div>\n",
              "<style scoped>\n",
              "    .dataframe tbody tr th:only-of-type {\n",
              "        vertical-align: middle;\n",
              "    }\n",
              "\n",
              "    .dataframe tbody tr th {\n",
              "        vertical-align: top;\n",
              "    }\n",
              "\n",
              "    .dataframe thead th {\n",
              "        text-align: right;\n",
              "    }\n",
              "</style>\n",
              "<table border=\"1\" class=\"dataframe\">\n",
              "  <thead>\n",
              "    <tr style=\"text-align: right;\">\n",
              "      <th></th>\n",
              "      <th>SepalLength</th>\n",
              "      <th>SepalWidth</th>\n",
              "      <th>PetalLength</th>\n",
              "      <th>PetalWidth</th>\n",
              "    </tr>\n",
              "  </thead>\n",
              "  <tbody>\n",
              "    <tr>\n",
              "      <th>0</th>\n",
              "      <td>6.4</td>\n",
              "      <td>2.8</td>\n",
              "      <td>5.6</td>\n",
              "      <td>2.2</td>\n",
              "    </tr>\n",
              "    <tr>\n",
              "      <th>1</th>\n",
              "      <td>5.0</td>\n",
              "      <td>2.3</td>\n",
              "      <td>3.3</td>\n",
              "      <td>1.0</td>\n",
              "    </tr>\n",
              "    <tr>\n",
              "      <th>2</th>\n",
              "      <td>4.9</td>\n",
              "      <td>2.5</td>\n",
              "      <td>4.5</td>\n",
              "      <td>1.7</td>\n",
              "    </tr>\n",
              "    <tr>\n",
              "      <th>3</th>\n",
              "      <td>4.9</td>\n",
              "      <td>3.1</td>\n",
              "      <td>1.5</td>\n",
              "      <td>0.1</td>\n",
              "    </tr>\n",
              "    <tr>\n",
              "      <th>4</th>\n",
              "      <td>5.7</td>\n",
              "      <td>3.8</td>\n",
              "      <td>1.7</td>\n",
              "      <td>0.3</td>\n",
              "    </tr>\n",
              "  </tbody>\n",
              "</table>\n",
              "</div>"
            ],
            "text/plain": [
              "   SepalLength  SepalWidth  PetalLength  PetalWidth\n",
              "0          6.4         2.8          5.6         2.2\n",
              "1          5.0         2.3          3.3         1.0\n",
              "2          4.9         2.5          4.5         1.7\n",
              "3          4.9         3.1          1.5         0.1\n",
              "4          5.7         3.8          1.7         0.3"
            ]
          },
          "metadata": {
            "tags": []
          },
          "execution_count": 113
        }
      ]
    },
    {
      "cell_type": "code",
      "metadata": {
        "id": "JfaHt5zChu6O"
      },
      "source": [
        "def input_fn(features, labels, training = True, batch_size=256):\n",
        "  #Convert the input to a Dataset\n",
        "  dataset = tf.data.Dataset.from_tensor_slices((dict(features), labels))\n",
        "\n",
        "  #shuffle and repeat if the you are in the training mode\n",
        "  if training:\n",
        "    dataset = dataset.shuffle(1000).repeat()\n",
        "  return dataset.batch(batch_size) # return dataset with given batchsize"
      ],
      "execution_count": 114,
      "outputs": []
    },
    {
      "cell_type": "code",
      "metadata": {
        "colab": {
          "base_uri": "https://localhost:8080/"
        },
        "id": "YT-XDhrIjFQM",
        "outputId": "ceeae531-9978-4aeb-db3d-0d8581872d59"
      },
      "source": [
        "# feature columns describe how to use the input\n",
        "\n",
        "my_feature_columns = []\n",
        "for key in train.keys():\n",
        "  my_feature_columns.append(tf.feature_column.numeric_column(key=key))\n",
        "\n",
        "print(my_feature_columns)"
      ],
      "execution_count": 115,
      "outputs": [
        {
          "output_type": "stream",
          "text": [
            "[NumericColumn(key='SepalLength', shape=(1,), default_value=None, dtype=tf.float32, normalizer_fn=None), NumericColumn(key='SepalWidth', shape=(1,), default_value=None, dtype=tf.float32, normalizer_fn=None), NumericColumn(key='PetalLength', shape=(1,), default_value=None, dtype=tf.float32, normalizer_fn=None), NumericColumn(key='PetalWidth', shape=(1,), default_value=None, dtype=tf.float32, normalizer_fn=None)]\n"
          ],
          "name": "stdout"
        }
      ]
    },
    {
      "cell_type": "markdown",
      "metadata": {
        "id": "jxeloM1mk27f"
      },
      "source": [
        "\n",
        "\n",
        "```\n",
        "# This is formatted as code\n",
        "```\n",
        "\n",
        "# Let create a classification model"
      ]
    },
    {
      "cell_type": "code",
      "metadata": {
        "colab": {
          "base_uri": "https://localhost:8080/"
        },
        "id": "7Es_juJ7lDlY",
        "outputId": "d7d2d27f-f086-4943-98df-75475617112b"
      },
      "source": [
        "#Build a DNN with 2 hidden layer with 30 node and 10 hiddee nodes\n",
        "classifier = tf.estimator.DNNClassifier(feature_columns = my_feature_columns,\n",
        "                                        #Two hidden layers of 30 and 10 nodes resepectively\n",
        "                                        hidden_units =[30,10],\n",
        "                                        # The model must choose between 3 classes\n",
        "                                        n_classes = 3)\n",
        "\n",
        "classifier.train(input_fn = lambda: input_fn(train, train_y, training=True), steps = 5000)\n",
        "#Here we utilize a lambda function to avoid creating an inner function like the previous model in used in titanic data set\n"
      ],
      "execution_count": 116,
      "outputs": [
        {
          "output_type": "stream",
          "text": [
            "INFO:tensorflow:Using default config.\n",
            "WARNING:tensorflow:Using temporary folder as model directory: /tmp/tmpj6noxemv\n",
            "INFO:tensorflow:Using config: {'_model_dir': '/tmp/tmpj6noxemv', '_tf_random_seed': None, '_save_summary_steps': 100, '_save_checkpoints_steps': None, '_save_checkpoints_secs': 600, '_session_config': allow_soft_placement: true\n",
            "graph_options {\n",
            "  rewrite_options {\n",
            "    meta_optimizer_iterations: ONE\n",
            "  }\n",
            "}\n",
            ", '_keep_checkpoint_max': 5, '_keep_checkpoint_every_n_hours': 10000, '_log_step_count_steps': 100, '_train_distribute': None, '_device_fn': None, '_protocol': None, '_eval_distribute': None, '_experimental_distribute': None, '_experimental_max_worker_delay_secs': None, '_session_creation_timeout_secs': 7200, '_service': None, '_cluster_spec': ClusterSpec({}), '_task_type': 'worker', '_task_id': 0, '_global_id_in_cluster': 0, '_master': '', '_evaluation_master': '', '_is_chief': True, '_num_ps_replicas': 0, '_num_worker_replicas': 1}\n",
            "INFO:tensorflow:Calling model_fn.\n",
            "WARNING:tensorflow:Layer dnn is casting an input tensor from dtype float64 to the layer's dtype of float32, which is new behavior in TensorFlow 2.  The layer has dtype float32 because its dtype defaults to floatx.\n",
            "\n",
            "If you intended to run this layer in float32, you can safely ignore this warning. If in doubt, this warning is likely only an issue if you are porting a TensorFlow 1.X model to TensorFlow 2.\n",
            "\n",
            "To change all layers to have dtype float64 by default, call `tf.keras.backend.set_floatx('float64')`. To change just this layer, pass dtype='float64' to the layer constructor. If you are the author of this layer, you can disable autocasting by passing autocast=False to the base Layer constructor.\n",
            "\n",
            "INFO:tensorflow:Done calling model_fn.\n",
            "INFO:tensorflow:Create CheckpointSaverHook.\n",
            "INFO:tensorflow:Graph was finalized.\n",
            "INFO:tensorflow:Running local_init_op.\n",
            "INFO:tensorflow:Done running local_init_op.\n",
            "INFO:tensorflow:Calling checkpoint listeners before saving checkpoint 0...\n",
            "INFO:tensorflow:Saving checkpoints for 0 into /tmp/tmpj6noxemv/model.ckpt.\n",
            "INFO:tensorflow:Calling checkpoint listeners after saving checkpoint 0...\n",
            "INFO:tensorflow:loss = 1.619064, step = 0\n",
            "INFO:tensorflow:global_step/sec: 491.735\n",
            "INFO:tensorflow:loss = 1.1755555, step = 100 (0.206 sec)\n",
            "INFO:tensorflow:global_step/sec: 642.262\n",
            "INFO:tensorflow:loss = 1.1180389, step = 200 (0.157 sec)\n",
            "INFO:tensorflow:global_step/sec: 654.396\n",
            "INFO:tensorflow:loss = 1.0763605, step = 300 (0.151 sec)\n",
            "INFO:tensorflow:global_step/sec: 643.767\n",
            "INFO:tensorflow:loss = 1.0512514, step = 400 (0.158 sec)\n",
            "INFO:tensorflow:global_step/sec: 663.07\n",
            "INFO:tensorflow:loss = 1.02847, step = 500 (0.149 sec)\n",
            "INFO:tensorflow:global_step/sec: 635.444\n",
            "INFO:tensorflow:loss = 1.004118, step = 600 (0.160 sec)\n",
            "INFO:tensorflow:global_step/sec: 641.715\n",
            "INFO:tensorflow:loss = 0.99317074, step = 700 (0.156 sec)\n",
            "INFO:tensorflow:global_step/sec: 662.492\n",
            "INFO:tensorflow:loss = 0.9681169, step = 800 (0.151 sec)\n",
            "INFO:tensorflow:global_step/sec: 639.952\n",
            "INFO:tensorflow:loss = 0.9444362, step = 900 (0.155 sec)\n",
            "INFO:tensorflow:global_step/sec: 639.094\n",
            "INFO:tensorflow:loss = 0.92745197, step = 1000 (0.156 sec)\n",
            "INFO:tensorflow:global_step/sec: 668.681\n",
            "INFO:tensorflow:loss = 0.86762166, step = 1100 (0.149 sec)\n",
            "INFO:tensorflow:global_step/sec: 607.607\n",
            "INFO:tensorflow:loss = 0.8183601, step = 1200 (0.165 sec)\n",
            "INFO:tensorflow:global_step/sec: 648.321\n",
            "INFO:tensorflow:loss = 0.78572404, step = 1300 (0.154 sec)\n",
            "INFO:tensorflow:global_step/sec: 638.089\n",
            "INFO:tensorflow:loss = 0.7704581, step = 1400 (0.157 sec)\n",
            "INFO:tensorflow:global_step/sec: 666.674\n",
            "INFO:tensorflow:loss = 0.7515091, step = 1500 (0.149 sec)\n",
            "INFO:tensorflow:global_step/sec: 636.609\n",
            "INFO:tensorflow:loss = 0.7359151, step = 1600 (0.159 sec)\n",
            "INFO:tensorflow:global_step/sec: 634.772\n",
            "INFO:tensorflow:loss = 0.72235966, step = 1700 (0.158 sec)\n",
            "INFO:tensorflow:global_step/sec: 626.665\n",
            "INFO:tensorflow:loss = 0.7106147, step = 1800 (0.157 sec)\n",
            "INFO:tensorflow:global_step/sec: 636.661\n",
            "INFO:tensorflow:loss = 0.69211245, step = 1900 (0.161 sec)\n",
            "INFO:tensorflow:global_step/sec: 611.562\n",
            "INFO:tensorflow:loss = 0.6779361, step = 2000 (0.160 sec)\n",
            "INFO:tensorflow:global_step/sec: 661.782\n",
            "INFO:tensorflow:loss = 0.6676202, step = 2100 (0.154 sec)\n",
            "INFO:tensorflow:global_step/sec: 655.12\n",
            "INFO:tensorflow:loss = 0.6578393, step = 2200 (0.152 sec)\n",
            "INFO:tensorflow:global_step/sec: 569.646\n",
            "INFO:tensorflow:loss = 0.6461828, step = 2300 (0.174 sec)\n",
            "INFO:tensorflow:global_step/sec: 622.118\n",
            "INFO:tensorflow:loss = 0.6308732, step = 2400 (0.163 sec)\n",
            "INFO:tensorflow:global_step/sec: 608.189\n",
            "INFO:tensorflow:loss = 0.6288593, step = 2500 (0.164 sec)\n",
            "INFO:tensorflow:global_step/sec: 626.436\n",
            "INFO:tensorflow:loss = 0.6147499, step = 2600 (0.160 sec)\n",
            "INFO:tensorflow:global_step/sec: 640.603\n",
            "INFO:tensorflow:loss = 0.6084838, step = 2700 (0.156 sec)\n",
            "INFO:tensorflow:global_step/sec: 684.566\n",
            "INFO:tensorflow:loss = 0.59732735, step = 2800 (0.146 sec)\n",
            "INFO:tensorflow:global_step/sec: 662.925\n",
            "INFO:tensorflow:loss = 0.5910533, step = 2900 (0.153 sec)\n",
            "INFO:tensorflow:global_step/sec: 657.204\n",
            "INFO:tensorflow:loss = 0.5819797, step = 3000 (0.150 sec)\n",
            "INFO:tensorflow:global_step/sec: 667.735\n",
            "INFO:tensorflow:loss = 0.57865393, step = 3100 (0.148 sec)\n",
            "INFO:tensorflow:global_step/sec: 626.556\n",
            "INFO:tensorflow:loss = 0.56844354, step = 3200 (0.159 sec)\n",
            "INFO:tensorflow:global_step/sec: 646.774\n",
            "INFO:tensorflow:loss = 0.5596336, step = 3300 (0.157 sec)\n",
            "INFO:tensorflow:global_step/sec: 658.894\n",
            "INFO:tensorflow:loss = 0.55954593, step = 3400 (0.152 sec)\n",
            "INFO:tensorflow:global_step/sec: 595.556\n",
            "INFO:tensorflow:loss = 0.5559911, step = 3500 (0.168 sec)\n",
            "INFO:tensorflow:global_step/sec: 678.969\n",
            "INFO:tensorflow:loss = 0.5367818, step = 3600 (0.145 sec)\n",
            "INFO:tensorflow:global_step/sec: 650.459\n",
            "INFO:tensorflow:loss = 0.53635335, step = 3700 (0.154 sec)\n",
            "INFO:tensorflow:global_step/sec: 607.863\n",
            "INFO:tensorflow:loss = 0.5249162, step = 3800 (0.167 sec)\n",
            "INFO:tensorflow:global_step/sec: 640.745\n",
            "INFO:tensorflow:loss = 0.5267867, step = 3900 (0.156 sec)\n",
            "INFO:tensorflow:global_step/sec: 640.409\n",
            "INFO:tensorflow:loss = 0.52718055, step = 4000 (0.156 sec)\n",
            "INFO:tensorflow:global_step/sec: 660.091\n",
            "INFO:tensorflow:loss = 0.5234559, step = 4100 (0.151 sec)\n",
            "INFO:tensorflow:global_step/sec: 645.502\n",
            "INFO:tensorflow:loss = 0.51560867, step = 4200 (0.153 sec)\n",
            "INFO:tensorflow:global_step/sec: 667.787\n",
            "INFO:tensorflow:loss = 0.50640595, step = 4300 (0.153 sec)\n",
            "INFO:tensorflow:global_step/sec: 655.995\n",
            "INFO:tensorflow:loss = 0.5037206, step = 4400 (0.153 sec)\n",
            "INFO:tensorflow:global_step/sec: 632.647\n",
            "INFO:tensorflow:loss = 0.49360365, step = 4500 (0.157 sec)\n",
            "INFO:tensorflow:global_step/sec: 636.132\n",
            "INFO:tensorflow:loss = 0.5075519, step = 4600 (0.155 sec)\n",
            "INFO:tensorflow:global_step/sec: 585.564\n",
            "INFO:tensorflow:loss = 0.48422444, step = 4700 (0.173 sec)\n",
            "INFO:tensorflow:global_step/sec: 639.078\n",
            "INFO:tensorflow:loss = 0.49002093, step = 4800 (0.155 sec)\n",
            "INFO:tensorflow:global_step/sec: 623.237\n",
            "INFO:tensorflow:loss = 0.46579581, step = 4900 (0.163 sec)\n",
            "INFO:tensorflow:Calling checkpoint listeners before saving checkpoint 5000...\n",
            "INFO:tensorflow:Saving checkpoints for 5000 into /tmp/tmpj6noxemv/model.ckpt.\n",
            "INFO:tensorflow:Calling checkpoint listeners after saving checkpoint 5000...\n",
            "INFO:tensorflow:Loss for final step: 0.47729665.\n"
          ],
          "name": "stdout"
        },
        {
          "output_type": "execute_result",
          "data": {
            "text/plain": [
              "<tensorflow_estimator.python.estimator.canned.dnn.DNNClassifierV2 at 0x7fe21836db38>"
            ]
          },
          "metadata": {
            "tags": []
          },
          "execution_count": 116
        }
      ]
    },
    {
      "cell_type": "markdown",
      "metadata": {
        "id": "TcTDbwr5-EbS"
      },
      "source": [
        "# Now let evaluate our model. "
      ]
    },
    {
      "cell_type": "code",
      "metadata": {
        "colab": {
          "base_uri": "https://localhost:8080/"
        },
        "id": "THsXiJes-DT5",
        "outputId": "8d37467c-958f-4d19-db0a-26e50dec9d8b"
      },
      "source": [
        "eval_result = classifier.evaluate(input_fn=lambda: input_fn(test, test_y, training=False))\n",
        "print(eval_result)\n",
        "print('\\nTest data set accuracy: {accuracy:.3f}\\n'.format(**eval_result))"
      ],
      "execution_count": 117,
      "outputs": [
        {
          "output_type": "stream",
          "text": [
            "INFO:tensorflow:Calling model_fn.\n",
            "WARNING:tensorflow:Layer dnn is casting an input tensor from dtype float64 to the layer's dtype of float32, which is new behavior in TensorFlow 2.  The layer has dtype float32 because its dtype defaults to floatx.\n",
            "\n",
            "If you intended to run this layer in float32, you can safely ignore this warning. If in doubt, this warning is likely only an issue if you are porting a TensorFlow 1.X model to TensorFlow 2.\n",
            "\n",
            "To change all layers to have dtype float64 by default, call `tf.keras.backend.set_floatx('float64')`. To change just this layer, pass dtype='float64' to the layer constructor. If you are the author of this layer, you can disable autocasting by passing autocast=False to the base Layer constructor.\n",
            "\n",
            "INFO:tensorflow:Done calling model_fn.\n",
            "INFO:tensorflow:Starting evaluation at 2020-11-28T14:10:41Z\n",
            "INFO:tensorflow:Graph was finalized.\n",
            "INFO:tensorflow:Restoring parameters from /tmp/tmpj6noxemv/model.ckpt-5000\n",
            "INFO:tensorflow:Running local_init_op.\n",
            "INFO:tensorflow:Done running local_init_op.\n",
            "INFO:tensorflow:Inference Time : 0.20192s\n",
            "INFO:tensorflow:Finished evaluation at 2020-11-28-14:10:41\n",
            "INFO:tensorflow:Saving dict for global step 5000: accuracy = 0.7583333, average_loss = 0.4804049, global_step = 5000, loss = 0.4804049\n",
            "INFO:tensorflow:Saving 'checkpoint_path' summary for global step 5000: /tmp/tmpj6noxemv/model.ckpt-5000\n",
            "{'accuracy': 0.7583333, 'average_loss': 0.4804049, 'loss': 0.4804049, 'global_step': 5000}\n",
            "\n",
            "Test data set accuracy: 0.758\n",
            "\n"
          ],
          "name": "stdout"
        }
      ]
    },
    {
      "cell_type": "markdown",
      "metadata": {
        "id": "cFMIXJKb_rG8"
      },
      "source": [
        "## Code block for model prediction accuracy. Here is the function for the code block"
      ]
    },
    {
      "cell_type": "code",
      "metadata": {
        "colab": {
          "base_uri": "https://localhost:8080/"
        },
        "id": "XQ9kxxVt_pMR",
        "outputId": "bf877b75-d32e-48ca-c195-26b15a9718f3"
      },
      "source": [
        "def input_fn(features, batch_size=256):\n",
        "  #convert the input feature to a Dataset without lables\n",
        "\n",
        "  return tf.data.Dataset.from_tensor_slices(dict(features)).batch(batch_size)\n",
        "features =[\"SepalLength\", \"SepalWidth\", \"PetalLength\", \"PetalWidth\"]\n",
        "predict = {}\n",
        "\n",
        "print(\"please type the numeric values as prompted.\")\n",
        "\n",
        "for feature in features:\n",
        "  valid = True\n",
        "  while valid:\n",
        "    val = input(feature + \": \")\n",
        "    if not val.isdigit(): valid = False\n",
        "  \n",
        "  predict[feature] = [float(val)]\n",
        "\n",
        "predictions = classifier.predict(input_fn=lambda: input_fn(predict))\n",
        "for pred_dict in predictions:\n",
        "  class_id = pred_dict[\"class_ids\"][0]\n",
        "  probability = pred_dict[\"probabilities\"][class_id]\n",
        "\n",
        "  print(\"prediction is {} ({:.1f}%)\".format(Species[class_id], 100 * probability))\n"
      ],
      "execution_count": 118,
      "outputs": [
        {
          "output_type": "stream",
          "text": [
            "please type the numeric values as prompted.\n",
            "SepalLength: 1.3\n",
            "SepalWidth: 1.56\n",
            "PetalLength: 1.32\n",
            "PetalWidth: 1.1\n",
            "INFO:tensorflow:Calling model_fn.\n",
            "INFO:tensorflow:Done calling model_fn.\n",
            "INFO:tensorflow:Graph was finalized.\n",
            "INFO:tensorflow:Restoring parameters from /tmp/tmpj6noxemv/model.ckpt-5000\n",
            "INFO:tensorflow:Running local_init_op.\n",
            "INFO:tensorflow:Done running local_init_op.\n",
            "prediction is Virginica (36.6%)\n"
          ],
          "name": "stdout"
        }
      ]
    }
  ]
}